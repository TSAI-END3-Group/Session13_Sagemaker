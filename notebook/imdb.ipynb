{
 "cells": [
  {
   "cell_type": "markdown",
   "id": "52e4d142",
   "metadata": {},
   "source": [
    "## Dependencies for using Sagemaker"
   ]
  },
  {
   "cell_type": "code",
   "execution_count": 1,
   "id": "357c13b6",
   "metadata": {},
   "outputs": [
    {
     "name": "stdout",
     "output_type": "stream",
     "text": [
      "\u001b[31mERROR: pip's dependency resolver does not currently take into account all the packages that are installed. This behaviour is the source of the following dependency conflicts.\r\n",
      "sagemaker 2.72.1 requires boto3>=1.20.18, but you have boto3 1.16.43 which is incompatible.\r\n",
      "awscli 1.22.25 requires botocore==1.23.25, but you have botocore 1.19.52 which is incompatible.\r\n",
      "awscli 1.22.25 requires s3transfer<0.6.0,>=0.5.0, but you have s3transfer 0.3.7 which is incompatible.\u001b[0m\r\n"
     ]
    }
   ],
   "source": [
    "!pip install -qq sagemaker-huggingface-inference-toolkit \n",
    "# !pip install -qq transformers==4.6.1 \"datasets[s3]\"\n",
    "# !pip install -qq ipywidgets\n",
    "# !pip install -qq watermark \n",
    "# !pip install -qq \"seaborn>=0.11.0\"\n"
   ]
  },
  {
   "cell_type": "code",
   "execution_count": 52,
   "id": "23dc46f5",
   "metadata": {},
   "outputs": [],
   "source": [
    "%matplotlib inline\n",
    "%config InlineBackend.figure_format='retina'"
   ]
  },
  {
   "cell_type": "code",
   "execution_count": 53,
   "id": "80c665f9",
   "metadata": {},
   "outputs": [],
   "source": [
    "import sagemaker\n",
    "from sagemaker.pytorch import PyTorch\n",
    "from sagemaker.debugger import ProfilerConfig, DebuggerHookConfig, Rule, ProfilerRule, rule_configs\n",
    "import sagemaker.huggingface\n",
    "from sagemaker.huggingface import HuggingFace\n",
    "import transformers\n",
    "from transformers import AutoTokenizer\n",
    "from datasets import load_dataset\n",
    "\n",
    "\n",
    "import numpy as np\n",
    "import pandas as pd\n",
    "import seaborn as sns\n",
    "from pylab import rcParams\n",
    "import matplotlib.pyplot as plt\n",
    "from matplotlib import rc\n",
    "from textwrap import wrap\n",
    "\n",
    "import boto3\n",
    "import pprint\n",
    "import time"
   ]
  },
  {
   "cell_type": "markdown",
   "id": "dd6755cd",
   "metadata": {},
   "source": [
    "## declare the sagemaker session\n",
    "We have to get the role, S3 location before we can start working with sagemaker"
   ]
  },
  {
   "cell_type": "code",
   "execution_count": 54,
   "id": "fdd11a40",
   "metadata": {},
   "outputs": [
    {
     "name": "stdout",
     "output_type": "stream",
     "text": [
      "sagemaker role arn: arn:aws:iam::596849958460:role/service-role/AmazonSageMaker-ExecutionRole-20220209T230020\n",
      "sagemaker bucket: sagemaker-ap-southeast-1-596849958460\n",
      "sagemaker session region: ap-southeast-1\n"
     ]
    }
   ],
   "source": [
    "sess = sagemaker.Session()\n",
    "sagemaker_session_bucket=None\n",
    "if sagemaker_session_bucket is None and sess is not None:\n",
    "    # set to default bucket if a bucket name is not given\n",
    "    sagemaker_session_bucket = sess.default_bucket()\n",
    "\n",
    "role = sagemaker.get_execution_role()\n",
    "sess = sagemaker.Session(default_bucket=sagemaker_session_bucket)\n",
    "\n",
    "print(f\"sagemaker role arn: {role}\")\n",
    "print(f\"sagemaker bucket: {sess.default_bucket()}\")\n",
    "print(f\"sagemaker session region: {sess.boto_region_name}\")"
   ]
  },
  {
   "cell_type": "markdown",
   "id": "2268da6d",
   "metadata": {},
   "source": [
    "## Data\n",
    "We are using the imdb data from https://huggingface.co/datasets/imdb.\n",
    "The data set has 25K training example and 25K testing example about the positive and negative reviews\n",
    "\n",
    "The data is downloaded and stored locally for the subsequent runs"
   ]
  },
  {
   "cell_type": "code",
   "execution_count": 55,
   "id": "afe0e6c6",
   "metadata": {},
   "outputs": [
    {
     "name": "stderr",
     "output_type": "stream",
     "text": [
      "Reusing dataset imdb (/home/ec2-user/.cache/huggingface/datasets/imdb/plain_text/1.0.0/e3c66f1788a67a89c7058d97ff62b6c30531e05b549de56d3ab91891f0561f9a)\n",
      "Loading cached shuffled indices for dataset at /home/ec2-user/.cache/huggingface/datasets/imdb/plain_text/1.0.0/e3c66f1788a67a89c7058d97ff62b6c30531e05b549de56d3ab91891f0561f9a/cache-1e5861303163a7d7.arrow\n",
      "Loading cached shuffled indices for dataset at /home/ec2-user/.cache/huggingface/datasets/imdb/plain_text/1.0.0/e3c66f1788a67a89c7058d97ff62b6c30531e05b549de56d3ab91891f0561f9a/cache-b397d9a489b571a6.arrow\n"
     ]
    }
   ],
   "source": [
    "dataset_name = 'imdb'\n",
    "\n",
    "train_dataset, test_dataset = load_dataset(dataset_name, split=['train', 'test'])\n",
    "train_dataset = train_dataset.shuffle().select(range(5000))  ## for the demo purpose restricting it to 5000. else the trainign will take a long time\n",
    "test_dataset = test_dataset.shuffle().select(range(5000))"
   ]
  },
  {
   "cell_type": "code",
   "execution_count": 56,
   "id": "278559e5",
   "metadata": {},
   "outputs": [
    {
     "name": "stdout",
     "output_type": "stream",
     "text": [
      "['text', 'label']\n"
     ]
    }
   ],
   "source": [
    "print(train_dataset.column_names)"
   ]
  },
  {
   "cell_type": "code",
   "execution_count": 57,
   "id": "790e8332",
   "metadata": {},
   "outputs": [
    {
     "data": {
      "text/plain": [
       "(5000, 2)"
      ]
     },
     "execution_count": 57,
     "metadata": {},
     "output_type": "execute_result"
    }
   ],
   "source": [
    "train_dataset.shape"
   ]
  },
  {
   "cell_type": "markdown",
   "id": "234e6775",
   "metadata": {},
   "source": [
    "### the +ve and -ve labels are equally distributed "
   ]
  },
  {
   "cell_type": "code",
   "execution_count": 58,
   "id": "4d1b32bb",
   "metadata": {},
   "outputs": [
    {
     "data": {
      "image/png": "[encoded data removed]",
      "text/plain": [
       "<Figure size 432x288 with 1 Axes>"
      ]
     },
     "metadata": {
      "image/png": {
       "height": 261,
       "width": 395
      },
      "needs_background": "light"
     },
     "output_type": "display_data"
    }
   ],
   "source": [
    "sns.countplot(x=train_dataset['label'])\n",
    "plt.xlabel('label');"
   ]
  },
  {
   "cell_type": "markdown",
   "id": "13165d09",
   "metadata": {},
   "source": [
    "## Model \n",
    "We are using the **distilbert-base-cased** model for fine tuning. "
   ]
  },
  {
   "cell_type": "code",
   "execution_count": 59,
   "id": "361b8c34",
   "metadata": {},
   "outputs": [],
   "source": [
    "tokenizer_name = 'distilbert-base-cased'\n",
    "tokenizer = AutoTokenizer.from_pretrained(tokenizer_name)"
   ]
  },
  {
   "cell_type": "code",
   "execution_count": 60,
   "id": "c7cc65ae",
   "metadata": {},
   "outputs": [
    {
     "name": "stderr",
     "output_type": "stream",
     "text": [
      "Loading cached processed dataset at /home/ec2-user/.cache/huggingface/datasets/imdb/plain_text/1.0.0/e3c66f1788a67a89c7058d97ff62b6c30531e05b549de56d3ab91891f0561f9a/cache-b922c2cc95d99fd7.arrow\n"
     ]
    },
    {
     "data": {
      "application/vnd.jupyter.widget-view+json": {
       "model_id": "40e59272bb2d4f73be9ae7b97c1a0fff",
       "version_major": 2,
       "version_minor": 0
      },
      "text/plain": [
       "  0%|          | 0/1 [00:00<?, ?ba/s]"
      ]
     },
     "metadata": {},
     "output_type": "display_data"
    }
   ],
   "source": [
    "# Helper function to get the content to tokenize\n",
    "def tokenize(batch):\n",
    "    return tokenizer(batch['text'], padding='max_length', truncation=True)\n",
    "\n",
    "# Tokenize\n",
    "train_dataset = train_dataset.map(tokenize, batched=True, batch_size=len(train_dataset))\n",
    "test_dataset = test_dataset.map(tokenize, batched=True, batch_size=len(test_dataset))\n",
    "\n",
    "# Set the format to PyTorch\n",
    "train_dataset = train_dataset.rename_column(\"label\", \"labels\")\n",
    "train_dataset.set_format('torch', columns=['input_ids', 'attention_mask', 'labels'])\n",
    "test_dataset = test_dataset.rename_column(\"label\", \"labels\")\n",
    "test_dataset.set_format('torch', columns=['input_ids', 'attention_mask', 'labels'])"
   ]
  },
  {
   "cell_type": "markdown",
   "id": "7c8b7d69",
   "metadata": {},
   "source": [
    "### uploading the tokenised trainign and testing datasets to S3"
   ]
  },
  {
   "cell_type": "code",
   "execution_count": 61,
   "id": "a0fad726",
   "metadata": {},
   "outputs": [
    {
     "name": "stdout",
     "output_type": "stream",
     "text": [
      "Uploaded training data to s3://sagemaker-ap-southeast-1-596849958460/samples/datasets/imdb/train\n",
      "Uploaded testing data to s3://sagemaker-ap-southeast-1-596849958460/samples/datasets/imdb/test\n"
     ]
    }
   ],
   "source": [
    "import botocore\n",
    "from datasets.filesystems import S3FileSystem\n",
    "\n",
    "# Upload to S3\n",
    "s3 = S3FileSystem()\n",
    "s3_prefix = f'samples/datasets/{dataset_name}'\n",
    "training_input_path = f's3://{sess.default_bucket()}/{s3_prefix}/train'\n",
    "train_dataset.save_to_disk(training_input_path,fs=s3)\n",
    "test_input_path = f's3://{sess.default_bucket()}/{s3_prefix}/test'\n",
    "test_dataset.save_to_disk(test_input_path,fs=s3)\n",
    "\n",
    "print(f'Uploaded training data to {training_input_path}')\n",
    "print(f'Uploaded testing data to {test_input_path}')"
   ]
  },
  {
   "cell_type": "markdown",
   "id": "acc4e3eb",
   "metadata": {},
   "source": [
    "### giving a name to the finetuned model"
   ]
  },
  {
   "cell_type": "code",
   "execution_count": 62,
   "id": "d0be310e",
   "metadata": {},
   "outputs": [
    {
     "name": "stdout",
     "output_type": "stream",
     "text": [
      "finetune-distilbert-base-cased-2022-02-18-18-49-27\n"
     ]
    }
   ],
   "source": [
    "model_name = 'distilbert-base-cased'\n",
    "import datetime\n",
    "ct = datetime.datetime.now() \n",
    "current_time = str(ct.now()).replace(\":\", \"-\").replace(\" \", \"-\")[:19]\n",
    "training_job_name=f'finetune-{model_name}-{current_time}'\n",
    "print( training_job_name )"
   ]
  },
  {
   "cell_type": "markdown",
   "id": "db958859",
   "metadata": {},
   "source": [
    "### hyperparamters that will be passed to the train script"
   ]
  },
  {
   "cell_type": "code",
   "execution_count": 63,
   "id": "0dd7920a",
   "metadata": {},
   "outputs": [],
   "source": [
    "hyperparameters={'epochs': 3,\n",
    "                 'train_batch_size': 32,\n",
    "                 'model_name': model_name,\n",
    "                 'tokenizer_name': tokenizer_name,\n",
    "                 'output_dir':'/opt/ml/checkpoints',\n",
    "                 }"
   ]
  },
  {
   "cell_type": "markdown",
   "id": "e2443f88",
   "metadata": {},
   "source": [
    "## dunmp of the training script. \n",
    "Essentially it is using the trainier from hugging face that provides the loop for the trianing and eval"
   ]
  },
  {
   "cell_type": "code",
   "execution_count": 48,
   "id": "aa6ca5db",
   "metadata": {},
   "outputs": [
    {
     "name": "stdout",
     "output_type": "stream",
     "text": [
      "\u001b[33m\"\"\"\u001b[39;49;00m\r\n",
      "\u001b[33mTraining script for Hugging Face SageMaker Estimator\u001b[39;49;00m\r\n",
      "\u001b[33m\"\"\"\u001b[39;49;00m\r\n",
      "\u001b[34mimport\u001b[39;49;00m \u001b[04m\u001b[36mlogging\u001b[39;49;00m\r\n",
      "\u001b[34mimport\u001b[39;49;00m \u001b[04m\u001b[36msys\u001b[39;49;00m\r\n",
      "\u001b[34mimport\u001b[39;49;00m \u001b[04m\u001b[36margparse\u001b[39;49;00m\r\n",
      "\u001b[34mimport\u001b[39;49;00m \u001b[04m\u001b[36mos\u001b[39;49;00m\r\n",
      "\u001b[34mfrom\u001b[39;49;00m \u001b[04m\u001b[36mtransformers\u001b[39;49;00m \u001b[34mimport\u001b[39;49;00m AutoModelForSequenceClassification, AutoTokenizer\r\n",
      "\u001b[34mfrom\u001b[39;49;00m \u001b[04m\u001b[36mtransformers\u001b[39;49;00m \u001b[34mimport\u001b[39;49;00m Trainer, TrainingArguments\r\n",
      "\u001b[34mfrom\u001b[39;49;00m \u001b[04m\u001b[36mdatasets\u001b[39;49;00m \u001b[34mimport\u001b[39;49;00m load_from_disk\r\n",
      "\u001b[34mfrom\u001b[39;49;00m \u001b[04m\u001b[36msklearn\u001b[39;49;00m\u001b[04m\u001b[36m.\u001b[39;49;00m\u001b[04m\u001b[36mmetrics\u001b[39;49;00m \u001b[34mimport\u001b[39;49;00m accuracy_score, precision_recall_fscore_support\r\n",
      "\r\n",
      "\u001b[34mif\u001b[39;49;00m \u001b[31m__name__\u001b[39;49;00m == \u001b[33m\"\u001b[39;49;00m\u001b[33m__main__\u001b[39;49;00m\u001b[33m\"\u001b[39;49;00m:\r\n",
      "\r\n",
      "    parser = argparse.ArgumentParser()\r\n",
      "\r\n",
      "    \u001b[37m# hyperparameters sent by the client are passed as command-line arguments to the script.\u001b[39;49;00m\r\n",
      "    parser.add_argument(\u001b[33m\"\u001b[39;49;00m\u001b[33m--epochs\u001b[39;49;00m\u001b[33m\"\u001b[39;49;00m, \u001b[36mtype\u001b[39;49;00m=\u001b[36mint\u001b[39;49;00m, default=\u001b[34m3\u001b[39;49;00m)\r\n",
      "    parser.add_argument(\u001b[33m\"\u001b[39;49;00m\u001b[33m--train_batch_size\u001b[39;49;00m\u001b[33m\"\u001b[39;49;00m, \u001b[36mtype\u001b[39;49;00m=\u001b[36mint\u001b[39;49;00m, default=\u001b[34m32\u001b[39;49;00m)\r\n",
      "    parser.add_argument(\u001b[33m\"\u001b[39;49;00m\u001b[33m--eval_batch_size\u001b[39;49;00m\u001b[33m\"\u001b[39;49;00m, \u001b[36mtype\u001b[39;49;00m=\u001b[36mint\u001b[39;49;00m, default=\u001b[34m64\u001b[39;49;00m)\r\n",
      "    parser.add_argument(\u001b[33m\"\u001b[39;49;00m\u001b[33m--warmup_steps\u001b[39;49;00m\u001b[33m\"\u001b[39;49;00m, \u001b[36mtype\u001b[39;49;00m=\u001b[36mint\u001b[39;49;00m, default=\u001b[34m500\u001b[39;49;00m)\r\n",
      "    parser.add_argument(\u001b[33m\"\u001b[39;49;00m\u001b[33m--model_name\u001b[39;49;00m\u001b[33m\"\u001b[39;49;00m, \u001b[36mtype\u001b[39;49;00m=\u001b[36mstr\u001b[39;49;00m)\r\n",
      "    parser.add_argument(\u001b[33m\"\u001b[39;49;00m\u001b[33m--tokenizer_name\u001b[39;49;00m\u001b[33m\"\u001b[39;49;00m, \u001b[36mtype\u001b[39;49;00m=\u001b[36mstr\u001b[39;49;00m)\r\n",
      "    parser.add_argument(\u001b[33m\"\u001b[39;49;00m\u001b[33m--learning_rate\u001b[39;49;00m\u001b[33m\"\u001b[39;49;00m, \u001b[36mtype\u001b[39;49;00m=\u001b[36mstr\u001b[39;49;00m, default=\u001b[34m5e-5\u001b[39;49;00m)\r\n",
      "\r\n",
      "    \u001b[37m# Data, model, and output directories\u001b[39;49;00m\r\n",
      "    parser.add_argument(\u001b[33m\"\u001b[39;49;00m\u001b[33m--output-data-dir\u001b[39;49;00m\u001b[33m\"\u001b[39;49;00m, \u001b[36mtype\u001b[39;49;00m=\u001b[36mstr\u001b[39;49;00m, default=os.environ[\u001b[33m\"\u001b[39;49;00m\u001b[33mSM_OUTPUT_DATA_DIR\u001b[39;49;00m\u001b[33m\"\u001b[39;49;00m])\r\n",
      "    parser.add_argument(\u001b[33m\"\u001b[39;49;00m\u001b[33m--model-dir\u001b[39;49;00m\u001b[33m\"\u001b[39;49;00m, \u001b[36mtype\u001b[39;49;00m=\u001b[36mstr\u001b[39;49;00m, default=os.environ[\u001b[33m\"\u001b[39;49;00m\u001b[33mSM_MODEL_DIR\u001b[39;49;00m\u001b[33m\"\u001b[39;49;00m])\r\n",
      "    parser.add_argument(\u001b[33m\"\u001b[39;49;00m\u001b[33m--n_gpus\u001b[39;49;00m\u001b[33m\"\u001b[39;49;00m, \u001b[36mtype\u001b[39;49;00m=\u001b[36mstr\u001b[39;49;00m, default=os.environ[\u001b[33m\"\u001b[39;49;00m\u001b[33mSM_NUM_GPUS\u001b[39;49;00m\u001b[33m\"\u001b[39;49;00m])\r\n",
      "    parser.add_argument(\u001b[33m\"\u001b[39;49;00m\u001b[33m--training_dir\u001b[39;49;00m\u001b[33m\"\u001b[39;49;00m, \u001b[36mtype\u001b[39;49;00m=\u001b[36mstr\u001b[39;49;00m, default=os.environ[\u001b[33m\"\u001b[39;49;00m\u001b[33mSM_CHANNEL_TRAIN\u001b[39;49;00m\u001b[33m\"\u001b[39;49;00m])\r\n",
      "    parser.add_argument(\u001b[33m\"\u001b[39;49;00m\u001b[33m--test_dir\u001b[39;49;00m\u001b[33m\"\u001b[39;49;00m, \u001b[36mtype\u001b[39;49;00m=\u001b[36mstr\u001b[39;49;00m, default=os.environ[\u001b[33m\"\u001b[39;49;00m\u001b[33mSM_CHANNEL_TEST\u001b[39;49;00m\u001b[33m\"\u001b[39;49;00m])\r\n",
      "\r\n",
      "    args, _ = parser.parse_known_args()\r\n",
      "\r\n",
      "    \u001b[37m# Set up logging\u001b[39;49;00m\r\n",
      "    logger = logging.getLogger(\u001b[31m__name__\u001b[39;49;00m)\r\n",
      "\r\n",
      "    logging.basicConfig(\r\n",
      "        level=logging.getLevelName(\u001b[33m\"\u001b[39;49;00m\u001b[33mINFO\u001b[39;49;00m\u001b[33m\"\u001b[39;49;00m),\r\n",
      "        handlers=[logging.StreamHandler(sys.stdout)],\r\n",
      "        \u001b[36mformat\u001b[39;49;00m=\u001b[33m\"\u001b[39;49;00m\u001b[33m%(asctime)s\u001b[39;49;00m\u001b[33m - \u001b[39;49;00m\u001b[33m%(name)s\u001b[39;49;00m\u001b[33m - \u001b[39;49;00m\u001b[33m%(levelname)s\u001b[39;49;00m\u001b[33m - \u001b[39;49;00m\u001b[33m%(message)s\u001b[39;49;00m\u001b[33m\"\u001b[39;49;00m,\r\n",
      "    )\r\n",
      "\r\n",
      "    \u001b[37m# load datasets\u001b[39;49;00m\r\n",
      "    train_dataset = load_from_disk(args.training_dir)\r\n",
      "    test_dataset = load_from_disk(args.test_dir)\r\n",
      "\r\n",
      "    logger.info(\u001b[33m\"\u001b[39;49;00m\u001b[33mloaded train_dataset length is: \u001b[39;49;00m\u001b[33m%s\u001b[39;49;00m\u001b[33m\"\u001b[39;49;00m, \u001b[36mlen\u001b[39;49;00m(train_dataset))\r\n",
      "    logger.info(\u001b[33m\"\u001b[39;49;00m\u001b[33mloaded test_dataset length is: \u001b[39;49;00m\u001b[33m%s\u001b[39;49;00m\u001b[33m\"\u001b[39;49;00m, \u001b[36mlen\u001b[39;49;00m(test_dataset))\r\n",
      "\r\n",
      "    \u001b[34mdef\u001b[39;49;00m \u001b[32mcompute_metrics\u001b[39;49;00m(pred):\r\n",
      "        \u001b[33m\"\"\"Compute metrics function for binary classification\"\"\"\u001b[39;49;00m\r\n",
      "        labels = pred.label_ids\r\n",
      "        preds = pred.predictions.argmax(-\u001b[34m1\u001b[39;49;00m)\r\n",
      "        precision, recall, f_1, _ = precision_recall_fscore_support(labels, preds, average=\u001b[33m\"\u001b[39;49;00m\u001b[33mbinary\u001b[39;49;00m\u001b[33m\"\u001b[39;49;00m)\r\n",
      "        acc = accuracy_score(labels, preds)\r\n",
      "        \u001b[34mreturn\u001b[39;49;00m {\u001b[33m\"\u001b[39;49;00m\u001b[33maccuracy\u001b[39;49;00m\u001b[33m\"\u001b[39;49;00m: acc, \u001b[33m\"\u001b[39;49;00m\u001b[33mf1\u001b[39;49;00m\u001b[33m\"\u001b[39;49;00m: f_1, \u001b[33m\"\u001b[39;49;00m\u001b[33mprecision\u001b[39;49;00m\u001b[33m\"\u001b[39;49;00m: precision, \u001b[33m\"\u001b[39;49;00m\u001b[33mrecall\u001b[39;49;00m\u001b[33m\"\u001b[39;49;00m: recall}\r\n",
      "\r\n",
      "    \u001b[37m# download model and tokenizer from model hub\u001b[39;49;00m\r\n",
      "    model = AutoModelForSequenceClassification.from_pretrained(args.model_name)\r\n",
      "    tokenizer = AutoTokenizer.from_pretrained(args.tokenizer_name)\r\n",
      "\r\n",
      "\r\n",
      "    \u001b[37m# define training args\u001b[39;49;00m\r\n",
      "    training_args = TrainingArguments(\r\n",
      "        output_dir=args.model_dir,\r\n",
      "        num_train_epochs=args.epochs,\r\n",
      "        per_device_train_batch_size=args.train_batch_size,\r\n",
      "        per_device_eval_batch_size=args.eval_batch_size,\r\n",
      "        warmup_steps=args.warmup_steps,\r\n",
      "        evaluation_strategy=\u001b[33m\"\u001b[39;49;00m\u001b[33mepoch\u001b[39;49;00m\u001b[33m\"\u001b[39;49;00m,\r\n",
      "        logging_dir=\u001b[33mf\u001b[39;49;00m\u001b[33m\"\u001b[39;49;00m\u001b[33m{\u001b[39;49;00margs.output_data_dir\u001b[33m}\u001b[39;49;00m\u001b[33m/logs\u001b[39;49;00m\u001b[33m\"\u001b[39;49;00m,\r\n",
      "        learning_rate=\u001b[36mfloat\u001b[39;49;00m(args.learning_rate),\r\n",
      "    )\r\n",
      "\r\n",
      "    \u001b[37m# create Trainer instance\u001b[39;49;00m\r\n",
      "    trainer = Trainer(\r\n",
      "        model=model,\r\n",
      "        args=training_args,\r\n",
      "        compute_metrics=compute_metrics,\r\n",
      "        train_dataset=train_dataset,\r\n",
      "        eval_dataset=test_dataset,\r\n",
      "        tokenizer=tokenizer,\r\n",
      "    )\r\n",
      "\r\n",
      "    \u001b[37m# train model\u001b[39;49;00m\r\n",
      "    trainer.train()\r\n",
      "\r\n",
      "    \u001b[37m# evaluate model\u001b[39;49;00m\r\n",
      "    eval_result = trainer.evaluate(eval_dataset=test_dataset)\r\n",
      "\r\n",
      "    \u001b[37m# writes eval result to file which can be accessed later in s3 ouput\u001b[39;49;00m\r\n",
      "    \u001b[34mwith\u001b[39;49;00m \u001b[36mopen\u001b[39;49;00m(os.path.join(args.output_data_dir, \u001b[33m\"\u001b[39;49;00m\u001b[33meval_results.txt\u001b[39;49;00m\u001b[33m\"\u001b[39;49;00m), \u001b[33m\"\u001b[39;49;00m\u001b[33mw\u001b[39;49;00m\u001b[33m\"\u001b[39;49;00m) \u001b[34mas\u001b[39;49;00m writer:\r\n",
      "        \u001b[36mprint\u001b[39;49;00m(\u001b[33m\"\u001b[39;49;00m\u001b[33m***** Eval results *****\u001b[39;49;00m\u001b[33m\"\u001b[39;49;00m)\r\n",
      "        \u001b[34mfor\u001b[39;49;00m key, value \u001b[35min\u001b[39;49;00m \u001b[36msorted\u001b[39;49;00m(eval_result.items()):\r\n",
      "            writer.write(\u001b[33mf\u001b[39;49;00m\u001b[33m\"\u001b[39;49;00m\u001b[33m{\u001b[39;49;00mkey\u001b[33m}\u001b[39;49;00m\u001b[33m = \u001b[39;49;00m\u001b[33m{\u001b[39;49;00mvalue\u001b[33m}\u001b[39;49;00m\u001b[33m\\n\u001b[39;49;00m\u001b[33m\"\u001b[39;49;00m)\r\n",
      "\r\n",
      "    \u001b[37m# Saves the model to s3\u001b[39;49;00m\r\n",
      "    trainer.save_model(args.model_dir)\r\n"
     ]
    }
   ],
   "source": [
    "!pygmentize ./scripts/train.py"
   ]
  },
  {
   "cell_type": "markdown",
   "id": "a6f2456e",
   "metadata": {},
   "source": [
    "### definition of the metrics that we want to capture during the trainign"
   ]
  },
  {
   "cell_type": "code",
   "execution_count": 64,
   "id": "905c7000",
   "metadata": {},
   "outputs": [],
   "source": [
    "metric_definitions=[\n",
    "    {'Name': 'loss', 'Regex': \"'loss': ([0-9]+(.|e\\-)[0-9]+),?\"},\n",
    "    {'Name': 'learning_rate', 'Regex': \"'learning_rate': ([0-9]+(.|e\\-)[0-9]+),?\"},\n",
    "    {'Name': 'eval_loss', 'Regex': \"'eval_loss': ([0-9]+(.|e\\-)[0-9]+),?\"},\n",
    "    {'Name': 'eval_accuracy', 'Regex': \"'eval_accuracy': ([0-9]+(.|e\\-)[0-9]+),?\"},\n",
    "    {'Name': 'eval_f1', 'Regex': \"'eval_f1': ([0-9]+(.|e\\-)[0-9]+),?\"},\n",
    "    {'Name': 'eval_precision', 'Regex': \"'eval_precision': ([0-9]+(.|e\\-)[0-9]+),?\"},\n",
    "    {'Name': 'eval_recall', 'Regex': \"'eval_recall': ([0-9]+(.|e\\-)[0-9]+),?\"},\n",
    "    {'Name': 'eval_runtime', 'Regex': \"'eval_runtime': ([0-9]+(.|e\\-)[0-9]+),?\"},\n",
    "    {'Name': 'eval_samples_per_second', 'Regex': \"'eval_samples_per_second': ([0-9]+(.|e\\-)[0-9]+),?\"},\n",
    "    {'Name': 'epoch', 'Regex': \"'epoch': ([0-9]+(.|e\\-)[0-9]+),?\"}]"
   ]
  },
  {
   "cell_type": "markdown",
   "id": "16e98932",
   "metadata": {},
   "source": [
    "### Definign the Estimator\n",
    "this is the most important step where we are defining the estimator. This is essentially configuring the training script to run with our dataset"
   ]
  },
  {
   "cell_type": "code",
   "execution_count": 65,
   "id": "3bd7d629",
   "metadata": {},
   "outputs": [],
   "source": [
    "huggingface_estimator = HuggingFace(entry_point='train.py', ## the training script\n",
    "                            source_dir='./scripts', ## the directory for the trainign script\n",
    "                            instance_type='ml.p3.2xlarge', ## trianing resource\n",
    "                            instance_count=1, ## how many such instances\n",
    "                            role=role, ## permisssions\n",
    "                            transformers_version='4.6', \n",
    "                            pytorch_version='1.7',\n",
    "                            py_version='py36',\n",
    "                            hyperparameters = hyperparameters, ## passing the hyperparameters\n",
    "                            metric_definitions=metric_definitions, ## metrics to be calculated\n",
    "                            max_run=36000, # expected max run in seconds\n",
    "                        )"
   ]
  },
  {
   "cell_type": "code",
   "execution_count": 66,
   "id": "e1684207",
   "metadata": {},
   "outputs": [],
   "source": [
    "huggingface_estimator.fit(\n",
    "    {'train': training_input_path, 'test': test_input_path}, \n",
    "    wait=False, \n",
    "    job_name=training_job_name )"
   ]
  },
  {
   "cell_type": "code",
   "execution_count": null,
   "id": "0702db01",
   "metadata": {},
   "outputs": [
    {
     "name": "stdout",
     "output_type": "stream",
     "text": [
      "\n",
      "2022-02-18 18:50:05 Starting - Starting the training job......\n",
      "2022-02-18 18:50:40 Starting - Preparing the instances for training...........\n",
      "2022-02-18 18:51:41 Downloading - Downloading input data...\n",
      "2022-02-18 18:52:02 Training - Downloading the training image.........................................\n",
      "2022-02-18 18:55:30 Training - Training image download completed. Training in progress..............................................................................\n",
      "2022-02-18 19:02:07 Uploading - Uploading generated training model........\n",
      "2022-02-18 19:02:53 Completed - Training job completed\n"
     ]
    },
    {
     "data": {
      "text/plain": [
       "{'TrainingJobName': 'finetune-distilbert-base-cased-2022-02-18-18-49-27',\n",
       " 'TrainingJobArn': 'arn:aws:sagemaker:ap-southeast-1:596849958460:training-job/finetune-distilbert-base-cased-2022-02-18-18-49-27',\n",
       " 'ModelArtifacts': {'S3ModelArtifacts': 's3://sagemaker-ap-southeast-1-596849958460/finetune-distilbert-base-cased-2022-02-18-18-49-27/output/model.tar.gz'},\n",
       " 'TrainingJobStatus': 'Completed',\n",
       " 'SecondaryStatus': 'Completed',\n",
       " 'HyperParameters': {'epochs': '3',\n",
       "  'model_name': '\"distilbert-base-cased\"',\n",
       "  'output_dir': '\"/opt/ml/checkpoints\"',\n",
       "  'sagemaker_container_log_level': '20',\n",
       "  'sagemaker_job_name': '\"finetune-distilbert-base-cased-2022-02-18-18-49-27\"',\n",
       "  'sagemaker_program': '\"train.py\"',\n",
       "  'sagemaker_region': '\"ap-southeast-1\"',\n",
       "  'sagemaker_submit_directory': '\"s3://sagemaker-ap-southeast-1-596849958460/finetune-distilbert-base-cased-2022-02-18-18-49-27/source/sourcedir.tar.gz\"',\n",
       "  'tokenizer_name': '\"distilbert-base-cased\"',\n",
       "  'train_batch_size': '32'},\n",
       " 'AlgorithmSpecification': {'TrainingImage': '763104351884.dkr.ecr.ap-southeast-1.amazonaws.com/huggingface-pytorch-training:1.7-transformers4.6-gpu-py36-cu110-ubuntu18.04',\n",
       "  'TrainingInputMode': 'File',\n",
       "  'MetricDefinitions': [{'Name': 'loss',\n",
       "    'Regex': \"'loss': ([0-9]+(.|e\\\\-)[0-9]+),?\"},\n",
       "   {'Name': 'learning_rate',\n",
       "    'Regex': \"'learning_rate': ([0-9]+(.|e\\\\-)[0-9]+),?\"},\n",
       "   {'Name': 'eval_loss', 'Regex': \"'eval_loss': ([0-9]+(.|e\\\\-)[0-9]+),?\"},\n",
       "   {'Name': 'eval_accuracy',\n",
       "    'Regex': \"'eval_accuracy': ([0-9]+(.|e\\\\-)[0-9]+),?\"},\n",
       "   {'Name': 'eval_f1', 'Regex': \"'eval_f1': ([0-9]+(.|e\\\\-)[0-9]+),?\"},\n",
       "   {'Name': 'eval_precision',\n",
       "    'Regex': \"'eval_precision': ([0-9]+(.|e\\\\-)[0-9]+),?\"},\n",
       "   {'Name': 'eval_recall', 'Regex': \"'eval_recall': ([0-9]+(.|e\\\\-)[0-9]+),?\"},\n",
       "   {'Name': 'eval_runtime',\n",
       "    'Regex': \"'eval_runtime': ([0-9]+(.|e\\\\-)[0-9]+),?\"},\n",
       "   {'Name': 'eval_samples_per_second',\n",
       "    'Regex': \"'eval_samples_per_second': ([0-9]+(.|e\\\\-)[0-9]+),?\"},\n",
       "   {'Name': 'epoch', 'Regex': \"'epoch': ([0-9]+(.|e\\\\-)[0-9]+),?\"}],\n",
       "  'EnableSageMakerMetricsTimeSeries': True},\n",
       " 'RoleArn': 'arn:aws:iam::596849958460:role/service-role/AmazonSageMaker-ExecutionRole-20220209T230020',\n",
       " 'InputDataConfig': [{'ChannelName': 'train',\n",
       "   'DataSource': {'S3DataSource': {'S3DataType': 'S3Prefix',\n",
       "     'S3Uri': 's3://sagemaker-ap-southeast-1-596849958460/samples/datasets/imdb/train',\n",
       "     'S3DataDistributionType': 'FullyReplicated'}},\n",
       "   'CompressionType': 'None',\n",
       "   'RecordWrapperType': 'None'},\n",
       "  {'ChannelName': 'test',\n",
       "   'DataSource': {'S3DataSource': {'S3DataType': 'S3Prefix',\n",
       "     'S3Uri': 's3://sagemaker-ap-southeast-1-596849958460/samples/datasets/imdb/test',\n",
       "     'S3DataDistributionType': 'FullyReplicated'}},\n",
       "   'CompressionType': 'None',\n",
       "   'RecordWrapperType': 'None'}],\n",
       " 'OutputDataConfig': {'KmsKeyId': '',\n",
       "  'S3OutputPath': 's3://sagemaker-ap-southeast-1-596849958460/'},\n",
       " 'ResourceConfig': {'InstanceType': 'ml.p3.2xlarge',\n",
       "  'InstanceCount': 1,\n",
       "  'VolumeSizeInGB': 30},\n",
       " 'StoppingCondition': {'MaxRuntimeInSeconds': 36000},\n",
       " 'CreationTime': datetime.datetime(2022, 2, 18, 18, 50, 4, 944000, tzinfo=tzlocal()),\n",
       " 'TrainingStartTime': datetime.datetime(2022, 2, 18, 18, 51, 41, 811000, tzinfo=tzlocal()),\n",
       " 'TrainingEndTime': datetime.datetime(2022, 2, 18, 19, 2, 53, 172000, tzinfo=tzlocal()),\n",
       " 'LastModifiedTime': datetime.datetime(2022, 2, 18, 19, 2, 53, 172000, tzinfo=tzlocal()),\n",
       " 'SecondaryStatusTransitions': [{'Status': 'Starting',\n",
       "   'StartTime': datetime.datetime(2022, 2, 18, 18, 50, 4, 944000, tzinfo=tzlocal()),\n",
       "   'EndTime': datetime.datetime(2022, 2, 18, 18, 51, 41, 811000, tzinfo=tzlocal()),\n",
       "   'StatusMessage': 'Preparing the instances for training'},\n",
       "  {'Status': 'Downloading',\n",
       "   'StartTime': datetime.datetime(2022, 2, 18, 18, 51, 41, 811000, tzinfo=tzlocal()),\n",
       "   'EndTime': datetime.datetime(2022, 2, 18, 18, 52, 2, 174000, tzinfo=tzlocal()),\n",
       "   'StatusMessage': 'Downloading input data'},\n",
       "  {'Status': 'Training',\n",
       "   'StartTime': datetime.datetime(2022, 2, 18, 18, 52, 2, 174000, tzinfo=tzlocal()),\n",
       "   'EndTime': datetime.datetime(2022, 2, 18, 19, 2, 7, 536000, tzinfo=tzlocal()),\n",
       "   'StatusMessage': 'Training image download completed. Training in progress.'},\n",
       "  {'Status': 'Uploading',\n",
       "   'StartTime': datetime.datetime(2022, 2, 18, 19, 2, 7, 536000, tzinfo=tzlocal()),\n",
       "   'EndTime': datetime.datetime(2022, 2, 18, 19, 2, 53, 172000, tzinfo=tzlocal()),\n",
       "   'StatusMessage': 'Uploading generated training model'},\n",
       "  {'Status': 'Completed',\n",
       "   'StartTime': datetime.datetime(2022, 2, 18, 19, 2, 53, 172000, tzinfo=tzlocal()),\n",
       "   'EndTime': datetime.datetime(2022, 2, 18, 19, 2, 53, 172000, tzinfo=tzlocal()),\n",
       "   'StatusMessage': 'Training job completed'}],\n",
       " 'FinalMetricDataList': [{'MetricName': 'eval_loss',\n",
       "   'Value': 0.3730885982513428,\n",
       "   'Timestamp': datetime.datetime(2022, 2, 18, 19, 1, 39, tzinfo=tzlocal())},\n",
       "  {'MetricName': 'eval_accuracy',\n",
       "   'Value': 0.8791999816894531,\n",
       "   'Timestamp': datetime.datetime(2022, 2, 18, 19, 1, 39, tzinfo=tzlocal())},\n",
       "  {'MetricName': 'eval_f1',\n",
       "   'Value': 0.8715440034866333,\n",
       "   'Timestamp': datetime.datetime(2022, 2, 18, 19, 1, 39, tzinfo=tzlocal())},\n",
       "  {'MetricName': 'eval_precision',\n",
       "   'Value': 0.9126948714256287,\n",
       "   'Timestamp': datetime.datetime(2022, 2, 18, 19, 1, 39, tzinfo=tzlocal())},\n",
       "  {'MetricName': 'eval_recall',\n",
       "   'Value': 0.8339438438415527,\n",
       "   'Timestamp': datetime.datetime(2022, 2, 18, 19, 1, 39, tzinfo=tzlocal())},\n",
       "  {'MetricName': 'eval_runtime',\n",
       "   'Value': 24.708999633789062,\n",
       "   'Timestamp': datetime.datetime(2022, 2, 18, 19, 1, 39, tzinfo=tzlocal())},\n",
       "  {'MetricName': 'eval_samples_per_second',\n",
       "   'Value': 202.35499572753906,\n",
       "   'Timestamp': datetime.datetime(2022, 2, 18, 19, 1, 39, tzinfo=tzlocal())},\n",
       "  {'MetricName': 'epoch',\n",
       "   'Value': 3.0,\n",
       "   'Timestamp': datetime.datetime(2022, 2, 18, 19, 1, 39, tzinfo=tzlocal())}],\n",
       " 'EnableNetworkIsolation': False,\n",
       " 'EnableInterContainerTrafficEncryption': False,\n",
       " 'EnableManagedSpotTraining': False,\n",
       " 'TrainingTimeInSeconds': 672,\n",
       " 'BillableTimeInSeconds': 672,\n",
       " 'DebugHookConfig': {'S3OutputPath': 's3://sagemaker-ap-southeast-1-596849958460/',\n",
       "  'CollectionConfigurations': []},\n",
       " 'ProfilerConfig': {'S3OutputPath': 's3://sagemaker-ap-southeast-1-596849958460/',\n",
       "  'ProfilingIntervalInMilliseconds': 500},\n",
       " 'ProfilerRuleConfigurations': [{'RuleConfigurationName': 'ProfilerReport-1645210204',\n",
       "   'RuleEvaluatorImage': '972752614525.dkr.ecr.ap-southeast-1.amazonaws.com/sagemaker-debugger-rules:latest',\n",
       "   'VolumeSizeInGB': 0,\n",
       "   'RuleParameters': {'rule_to_invoke': 'ProfilerReport'}}],\n",
       " 'ProfilerRuleEvaluationStatuses': [{'RuleConfigurationName': 'ProfilerReport-1645210204',\n",
       "   'RuleEvaluationJobArn': 'arn:aws:sagemaker:ap-southeast-1:596849958460:processing-job/finetune-distilbert-base-c-profilerreport-1645210204-dfdabd65',\n",
       "   'RuleEvaluationStatus': 'InProgress',\n",
       "   'LastModifiedTime': datetime.datetime(2022, 2, 18, 19, 2, 44, 579000, tzinfo=tzlocal())}],\n",
       " 'ProfilingStatus': 'Enabled',\n",
       " 'ResponseMetadata': {'RequestId': '29c8779d-820c-4298-8cba-7cd6d528942c',\n",
       "  'HTTPStatusCode': 200,\n",
       "  'HTTPHeaders': {'x-amzn-requestid': '29c8779d-820c-4298-8cba-7cd6d528942c',\n",
       "   'content-type': 'application/x-amz-json-1.1',\n",
       "   'content-length': '5551',\n",
       "   'date': 'Fri, 18 Feb 2022 19:02:55 GMT'},\n",
       "  'RetryAttempts': 0}}"
      ]
     },
     "execution_count": 67,
     "metadata": {},
     "output_type": "execute_result"
    }
   ],
   "source": [
    "sess.wait_for_job(training_job_name)"
   ]
  },
  {
   "cell_type": "markdown",
   "id": "91dc281a",
   "metadata": {},
   "source": [
    "### displaying the metrics"
   ]
  },
  {
   "cell_type": "code",
   "execution_count": 68,
   "id": "8ba46874",
   "metadata": {},
   "outputs": [
    {
     "name": "stderr",
     "output_type": "stream",
     "text": [
      "Warning: No metrics called loss found\n",
      "Warning: No metrics called learning_rate found\n"
     ]
    },
    {
     "data": {
      "text/html": [
       "<div>\n",
       "<style scoped>\n",
       "    .dataframe tbody tr th:only-of-type {\n",
       "        vertical-align: middle;\n",
       "    }\n",
       "\n",
       "    .dataframe tbody tr th {\n",
       "        vertical-align: top;\n",
       "    }\n",
       "\n",
       "    .dataframe thead th {\n",
       "        text-align: right;\n",
       "    }\n",
       "</style>\n",
       "<table border=\"1\" class=\"dataframe\">\n",
       "  <thead>\n",
       "    <tr style=\"text-align: right;\">\n",
       "      <th></th>\n",
       "      <th>timestamp</th>\n",
       "      <th>metric_name</th>\n",
       "      <th>value</th>\n",
       "    </tr>\n",
       "  </thead>\n",
       "  <tbody>\n",
       "    <tr>\n",
       "      <th>0</th>\n",
       "      <td>0.0</td>\n",
       "      <td>eval_loss</td>\n",
       "      <td>0.365952</td>\n",
       "    </tr>\n",
       "    <tr>\n",
       "      <th>1</th>\n",
       "      <td>120.0</td>\n",
       "      <td>eval_loss</td>\n",
       "      <td>0.323193</td>\n",
       "    </tr>\n",
       "    <tr>\n",
       "      <th>2</th>\n",
       "      <td>240.0</td>\n",
       "      <td>eval_loss</td>\n",
       "      <td>0.373089</td>\n",
       "    </tr>\n",
       "    <tr>\n",
       "      <th>3</th>\n",
       "      <td>0.0</td>\n",
       "      <td>eval_accuracy</td>\n",
       "      <td>0.839800</td>\n",
       "    </tr>\n",
       "    <tr>\n",
       "      <th>4</th>\n",
       "      <td>120.0</td>\n",
       "      <td>eval_accuracy</td>\n",
       "      <td>0.865800</td>\n",
       "    </tr>\n",
       "    <tr>\n",
       "      <th>5</th>\n",
       "      <td>240.0</td>\n",
       "      <td>eval_accuracy</td>\n",
       "      <td>0.879200</td>\n",
       "    </tr>\n",
       "    <tr>\n",
       "      <th>6</th>\n",
       "      <td>0.0</td>\n",
       "      <td>eval_f1</td>\n",
       "      <td>0.852296</td>\n",
       "    </tr>\n",
       "    <tr>\n",
       "      <th>7</th>\n",
       "      <td>120.0</td>\n",
       "      <td>eval_f1</td>\n",
       "      <td>0.872748</td>\n",
       "    </tr>\n",
       "    <tr>\n",
       "      <th>8</th>\n",
       "      <td>240.0</td>\n",
       "      <td>eval_f1</td>\n",
       "      <td>0.871544</td>\n",
       "    </tr>\n",
       "    <tr>\n",
       "      <th>9</th>\n",
       "      <td>0.0</td>\n",
       "      <td>eval_precision</td>\n",
       "      <td>0.779164</td>\n",
       "    </tr>\n",
       "  </tbody>\n",
       "</table>\n",
       "</div>"
      ],
      "text/plain": [
       "   timestamp     metric_name     value\n",
       "0        0.0       eval_loss  0.365952\n",
       "1      120.0       eval_loss  0.323193\n",
       "2      240.0       eval_loss  0.373089\n",
       "3        0.0   eval_accuracy  0.839800\n",
       "4      120.0   eval_accuracy  0.865800\n",
       "5      240.0   eval_accuracy  0.879200\n",
       "6        0.0         eval_f1  0.852296\n",
       "7      120.0         eval_f1  0.872748\n",
       "8      240.0         eval_f1  0.871544\n",
       "9        0.0  eval_precision  0.779164"
      ]
     },
     "execution_count": 68,
     "metadata": {},
     "output_type": "execute_result"
    }
   ],
   "source": [
    "from sagemaker import TrainingJobAnalytics\n",
    "\n",
    "# Captured metrics can be accessed as a Pandas dataframe\n",
    "df = TrainingJobAnalytics(training_job_name=training_job_name).dataframe()\n",
    "df.head(10)"
   ]
  },
  {
   "cell_type": "markdown",
   "id": "dbd1c9f7",
   "metadata": {},
   "source": [
    "### graphs to visualize the metrics"
   ]
  },
  {
   "cell_type": "code",
   "execution_count": 69,
   "id": "fc18e4d3",
   "metadata": {},
   "outputs": [
    {
     "data": {
      "text/plain": [
       "<AxesSubplot:label='1c85ec8d-ada5-407e-aeae-2721ab34cb3c', xlabel='timestamp', ylabel='value'>"
      ]
     },
     "execution_count": 69,
     "metadata": {},
     "output_type": "execute_result"
    },
    {
     "data": {
      "image/png": "[encoded data removed]",
      "text/plain": [
       "<Figure size 432x288 with 2 Axes>"
      ]
     },
     "metadata": {
      "image/png": {
       "height": 261,
       "width": 434
      },
      "needs_background": "light"
     },
     "output_type": "display_data"
    }
   ],
   "source": [
    "evals = df[df.metric_name.isin(['eval_accuracy','eval_precision', 'eval_f1'])]\n",
    "losses = df[df.metric_name.isin(['loss', 'eval_loss'])]\n",
    "\n",
    "sns.lineplot(\n",
    "    x='timestamp', \n",
    "    y='value', \n",
    "    data=evals, \n",
    "    style='metric_name',\n",
    "    markers=True,\n",
    "    hue='metric_name'\n",
    ")\n",
    "\n",
    "ax2 = plt.twinx()\n",
    "sns.lineplot(\n",
    "    x='timestamp', \n",
    "    y='value', \n",
    "    data=losses, \n",
    "    hue='metric_name',\n",
    "    ax=ax2)"
   ]
  },
  {
   "cell_type": "markdown",
   "id": "aae04a42",
   "metadata": {},
   "source": [
    "### After training, we use the PyTorch estimator to build and deploy a PyTorchPredictor. This creates a Sagemaker Endpoint -- a hosted prediction service that we can use to perform inference"
   ]
  },
  {
   "cell_type": "code",
   "execution_count": 70,
   "id": "1c195830",
   "metadata": {},
   "outputs": [
    {
     "name": "stdout",
     "output_type": "stream",
     "text": [
      "-----!"
     ]
    }
   ],
   "source": [
    "predictor = huggingface_estimator.deploy(\n",
    "    initial_instance_count=1, \n",
    "    instance_type=\"ml.m5.xlarge\", \n",
    "    endpoint_name=training_job_name\n",
    ")"
   ]
  },
  {
   "cell_type": "markdown",
   "id": "c1df7a43",
   "metadata": {},
   "source": [
    "### examples for inference"
   ]
  },
  {
   "cell_type": "code",
   "execution_count": 74,
   "id": "228ed1e0",
   "metadata": {},
   "outputs": [
    {
     "data": {
      "text/plain": [
       "[{'label': 'LABEL_0', 'score': 0.9945787787437439},\n",
       " {'label': 'LABEL_0', 'score': 0.8286938667297363},\n",
       " {'label': 'LABEL_0', 'score': 0.9906011819839478}]"
      ]
     },
     "execution_count": 74,
     "metadata": {},
     "output_type": "execute_result"
    }
   ],
   "source": [
    "data = {\n",
    "   \"inputs\": [\n",
    "       \"I love sci-fi and am willing to put up with a lot. Sci-fi movies/TV are usually underfunded, under-appreciated and misunderstood. I tried to like this, I really did, but it is to good TV sci-fi as Babylon 5 is to Star Trek (the original). Silly prosthetics, cheap cardboard sets, stilted dialogues, CG that doesn't match the background, and painfully one-dimensional characters cannot be overcome with a 'sci-fi' setting. (I'm sure there are those of you out there who think Babylon 5 is good sci-fi TV. It's not. It's clichéd and uninspiring.) While US viewers might like emotion and character development, sci-fi is a genre that does not take itself seriously (cf. Star Trek). It may treat important issues, yet not as a serious philosophy. It's really difficult to care about the characters here as they are not simply foolish, just missing a spark of life. Their actions and reactions are wooden and predictable, often painful to watch. The makers of Earth KNOW it's rubbish as they have to always say sd Earth... otherwise people would not continue watching. Roddenberry's ashes must be turning in their orbit as this dull, cheap, poorly edited (watching it without advert breaks really brings this home) trudging Trabant of a show lumbers into space. Spoiler. So, kill off a main character. And then bring him back as another actor. Jeeez! Dallas all over again.\", \n",
    "       \"i did not like the movie\",\n",
    "       \"i liked the movie for the story , but the action was very bad\"\n",
    "   ]\n",
    "}\n",
    "\n",
    "# request\n",
    "predictor.predict(data)"
   ]
  },
  {
   "cell_type": "markdown",
   "id": "2972a556",
   "metadata": {},
   "source": [
    "## delete the endpoint"
   ]
  },
  {
   "cell_type": "code",
   "execution_count": 75,
   "id": "9ea181bd",
   "metadata": {},
   "outputs": [],
   "source": [
    "predictor.delete_endpoint()"
   ]
  },
  {
   "cell_type": "code",
   "execution_count": null,
   "id": "9c82a3c9",
   "metadata": {},
   "outputs": [],
   "source": []
  }
 ],
 "metadata": {
  "kernelspec": {
   "display_name": "conda_pytorch_latest_p36",
   "language": "python",
   "name": "conda_pytorch_latest_p36"
  },
  "language_info": {
   "codemirror_mode": {
    "name": "ipython",
    "version": 3
   },
   "file_extension": ".py",
   "mimetype": "text/x-python",
   "name": "python",
   "nbconvert_exporter": "python",
   "pygments_lexer": "ipython3",
   "version": "3.6.13"
  }
 },
 "nbformat": 4,
 "nbformat_minor": 5
}
